{
 "cells": [
  {
   "cell_type": "markdown",
   "metadata": {},
   "source": [
    "# Artificial Neural Network"
   ]
  },
  {
   "cell_type": "markdown",
   "metadata": {},
   "source": [
    "# 1. Data Preprocessing\n"
   ]
  },
  {
   "cell_type": "markdown",
   "metadata": {},
   "source": [
    "### Importing the libraries"
   ]
  },
  {
   "cell_type": "code",
   "execution_count": 1,
   "metadata": {},
   "outputs": [],
   "source": [
    "import numpy as np\n",
    "import pandas as pd\n",
    "import tensorflow as tf"
   ]
  },
  {
   "cell_type": "code",
   "execution_count": 2,
   "metadata": {},
   "outputs": [
    {
     "data": {
      "text/plain": [
       "'2.0.0'"
      ]
     },
     "execution_count": 2,
     "metadata": {},
     "output_type": "execute_result"
    }
   ],
   "source": [
    "tf.__version__"
   ]
  },
  {
   "cell_type": "code",
   "execution_count": 3,
   "metadata": {},
   "outputs": [],
   "source": [
    "dataset = pd.read_csv('Churn_Modelling.csv')\n",
    "X = dataset.iloc[:, 3:-1].values\n",
    "y = dataset.iloc[:, -1].values"
   ]
  },
  {
   "cell_type": "code",
   "execution_count": 4,
   "metadata": {},
   "outputs": [
    {
     "name": "stdout",
     "output_type": "stream",
     "text": [
      "[[619 'France' 'Female' ... 1 1 101348.88]\n",
      " [608 'Spain' 'Female' ... 0 1 112542.58]\n",
      " [502 'France' 'Female' ... 1 0 113931.57]\n",
      " ...\n",
      " [709 'France' 'Female' ... 0 1 42085.58]\n",
      " [772 'Germany' 'Male' ... 1 0 92888.52]\n",
      " [792 'France' 'Female' ... 1 0 38190.78]]\n"
     ]
    }
   ],
   "source": [
    "print(X)"
   ]
  },
  {
   "cell_type": "code",
   "execution_count": 5,
   "metadata": {},
   "outputs": [
    {
     "name": "stdout",
     "output_type": "stream",
     "text": [
      "[1 0 1 ... 1 1 0]\n"
     ]
    }
   ],
   "source": [
    "print(y)"
   ]
  },
  {
   "cell_type": "markdown",
   "metadata": {},
   "source": [
    "### Encoding Categorical Data"
   ]
  },
  {
   "cell_type": "markdown",
   "metadata": {},
   "source": [
    "Label Encode 'Gender' field"
   ]
  },
  {
   "cell_type": "code",
   "execution_count": 6,
   "metadata": {},
   "outputs": [],
   "source": [
    "from sklearn.preprocessing import LabelEncoder\n",
    "le = LabelEncoder()\n",
    "X[:, 2] = le.fit_transform(X[:, 2])"
   ]
  },
  {
   "cell_type": "code",
   "execution_count": 7,
   "metadata": {},
   "outputs": [
    {
     "name": "stdout",
     "output_type": "stream",
     "text": [
      "[[619 'France' 0 ... 1 1 101348.88]\n",
      " [608 'Spain' 0 ... 0 1 112542.58]\n",
      " [502 'France' 0 ... 1 0 113931.57]\n",
      " ...\n",
      " [709 'France' 0 ... 0 1 42085.58]\n",
      " [772 'Germany' 1 ... 1 0 92888.52]\n",
      " [792 'France' 0 ... 1 0 38190.78]]\n"
     ]
    }
   ],
   "source": [
    "print(X)"
   ]
  },
  {
   "cell_type": "markdown",
   "metadata": {},
   "source": [
    "### One Hot Encoding the Geography Column"
   ]
  },
  {
   "cell_type": "code",
   "execution_count": 8,
   "metadata": {},
   "outputs": [],
   "source": [
    "from sklearn.compose import ColumnTransformer\n",
    "from sklearn.preprocessing import OneHotEncoder\n",
    "ct = ColumnTransformer(transformers=[('encoder', OneHotEncoder(), [1])], remainder='passthrough')\n",
    "X = np.array(ct.fit_transform(X))"
   ]
  },
  {
   "cell_type": "markdown",
   "metadata": {},
   "source": [
    "### Split the data into train and test cells"
   ]
  },
  {
   "cell_type": "code",
   "execution_count": 9,
   "metadata": {},
   "outputs": [],
   "source": [
    "from sklearn.model_selection import train_test_split\n",
    "X_train, X_test, y_train, y_test = train_test_split(X, y, test_size = 0.2, random_state = 0)"
   ]
  },
  {
   "cell_type": "markdown",
   "metadata": {},
   "source": [
    "### Feature scaling\n",
    "Feature scaling is very much essential for Deep Learning.\n",
    "Need to train all the features in the dataset."
   ]
  },
  {
   "cell_type": "code",
   "execution_count": 10,
   "metadata": {},
   "outputs": [],
   "source": [
    "from sklearn.preprocessing import StandardScaler\n",
    "sc = StandardScaler()\n",
    "X_train = sc.fit_transform(X_train)\n",
    "X_test = sc.transform(X_test)"
   ]
  },
  {
   "cell_type": "code",
   "execution_count": 11,
   "metadata": {},
   "outputs": [
    {
     "name": "stdout",
     "output_type": "stream",
     "text": [
      "[[-1.01460667 -0.5698444   1.74309049 ...  0.64259497 -1.03227043\n",
      "   1.10643166]\n",
      " [-1.01460667  1.75486502 -0.57369368 ...  0.64259497  0.9687384\n",
      "  -0.74866447]\n",
      " [ 0.98560362 -0.5698444  -0.57369368 ...  0.64259497 -1.03227043\n",
      "   1.48533467]\n",
      " ...\n",
      " [ 0.98560362 -0.5698444  -0.57369368 ...  0.64259497 -1.03227043\n",
      "   1.41231994]\n",
      " [-1.01460667 -0.5698444   1.74309049 ...  0.64259497  0.9687384\n",
      "   0.84432121]\n",
      " [-1.01460667  1.75486502 -0.57369368 ...  0.64259497 -1.03227043\n",
      "   0.32472465]]\n"
     ]
    }
   ],
   "source": [
    "print(X_train)"
   ]
  },
  {
   "cell_type": "markdown",
   "metadata": {},
   "source": [
    "# 2. Building ANN"
   ]
  },
  {
   "cell_type": "markdown",
   "metadata": {},
   "source": [
    "### Initializing the ANN"
   ]
  },
  {
   "cell_type": "code",
   "execution_count": 12,
   "metadata": {},
   "outputs": [],
   "source": [
    "ann = tf.keras.Sequential()"
   ]
  },
  {
   "cell_type": "markdown",
   "metadata": {},
   "source": [
    "### Adding input layer"
   ]
  },
  {
   "cell_type": "code",
   "execution_count": 14,
   "metadata": {},
   "outputs": [],
   "source": [
    "ann.add(tf.keras.layers.Dense(units = 6, activation = 'relu'))"
   ]
  },
  {
   "cell_type": "markdown",
   "metadata": {},
   "source": [
    "### Adding second hidden layer"
   ]
  },
  {
   "cell_type": "code",
   "execution_count": 15,
   "metadata": {},
   "outputs": [],
   "source": [
    "ann.add(tf.keras.layers.Dense(units = 6, activation = 'relu'))"
   ]
  },
  {
   "cell_type": "markdown",
   "metadata": {},
   "source": [
    "### Adding output layer"
   ]
  },
  {
   "cell_type": "code",
   "execution_count": 16,
   "metadata": {},
   "outputs": [],
   "source": [
    "ann.add(tf.keras.layers.Dense(units = 1, activation = 'sigmoid'))"
   ]
  },
  {
   "cell_type": "markdown",
   "metadata": {},
   "source": [
    "# 3.Training the ANN"
   ]
  },
  {
   "cell_type": "markdown",
   "metadata": {},
   "source": [
    "### Compile the ANN "
   ]
  },
  {
   "cell_type": "code",
   "execution_count": 17,
   "metadata": {},
   "outputs": [],
   "source": [
    "ann.compile(optimizer = 'adam', loss = 'binary_crossentropy', metrices = ['accuracy'])"
   ]
  },
  {
   "cell_type": "markdown",
   "metadata": {},
   "source": [
    "### Training the ANN ojn training set"
   ]
  },
  {
   "cell_type": "code",
   "execution_count": 18,
   "metadata": {},
   "outputs": [
    {
     "name": "stdout",
     "output_type": "stream",
     "text": [
      "Train on 8000 samples\n",
      "Epoch 1/100\n",
      "8000/8000 [==============================] - 3s 323us/sample - loss: 0.5768\n",
      "Epoch 2/100\n",
      "8000/8000 [==============================] - 1s 138us/sample - loss: 0.4852\n",
      "Epoch 3/100\n",
      "8000/8000 [==============================] - 1s 137us/sample - loss: 0.4553\n",
      "Epoch 4/100\n",
      "8000/8000 [==============================] - 1s 136us/sample - loss: 0.4403\n",
      "Epoch 5/100\n",
      "8000/8000 [==============================] - 1s 118us/sample - loss: 0.4309\n",
      "Epoch 6/100\n",
      "8000/8000 [==============================] - 1s 106us/sample - loss: 0.4246\n",
      "Epoch 7/100\n",
      "8000/8000 [==============================] - 1s 138us/sample - loss: 0.4197\n",
      "Epoch 8/100\n",
      "8000/8000 [==============================] - 1s 136us/sample - loss: 0.4167\n",
      "Epoch 9/100\n",
      "8000/8000 [==============================] - 1s 118us/sample - loss: 0.4140\n",
      "Epoch 10/100\n",
      "8000/8000 [==============================] - 1s 93us/sample - loss: 0.4126\n",
      "Epoch 11/100\n",
      "8000/8000 [==============================] - 1s 102us/sample - loss: 0.4108\n",
      "Epoch 12/100\n",
      "8000/8000 [==============================] - 1s 127us/sample - loss: 0.4094\n",
      "Epoch 13/100\n",
      "8000/8000 [==============================] - 1s 114us/sample - loss: 0.4080\n",
      "Epoch 14/100\n",
      "8000/8000 [==============================] - 1s 99us/sample - loss: 0.4069\n",
      "Epoch 15/100\n",
      "8000/8000 [==============================] - 1s 81us/sample - loss: 0.4055\n",
      "Epoch 16/100\n",
      "8000/8000 [==============================] - 1s 98us/sample - loss: 0.4042\n",
      "Epoch 17/100\n",
      "8000/8000 [==============================] - 1s 123us/sample - loss: 0.4030\n",
      "Epoch 18/100\n",
      "8000/8000 [==============================] - 1s 82us/sample - loss: 0.4013\n",
      "Epoch 19/100\n",
      "8000/8000 [==============================] - 1s 88us/sample - loss: 0.3993\n",
      "Epoch 20/100\n",
      "8000/8000 [==============================] - 1s 131us/sample - loss: 0.3972\n",
      "Epoch 21/100\n",
      "8000/8000 [==============================] - 1s 89us/sample - loss: 0.3949\n",
      "Epoch 22/100\n",
      "8000/8000 [==============================] - 1s 78us/sample - loss: 0.3924\n",
      "Epoch 23/100\n",
      "8000/8000 [==============================] - 0s 59us/sample - loss: 0.3898\n",
      "Epoch 24/100\n",
      "8000/8000 [==============================] - 0s 58us/sample - loss: 0.3870\n",
      "Epoch 25/100\n",
      "8000/8000 [==============================] - 0s 59us/sample - loss: 0.3835\n",
      "Epoch 26/100\n",
      "8000/8000 [==============================] - 1s 64us/sample - loss: 0.3811\n",
      "Epoch 27/100\n",
      "8000/8000 [==============================] - 0s 48us/sample - loss: 0.3783\n",
      "Epoch 28/100\n",
      "8000/8000 [==============================] - 0s 52us/sample - loss: 0.3756\n",
      "Epoch 29/100\n",
      "8000/8000 [==============================] - 1s 65us/sample - loss: 0.3737\n",
      "Epoch 30/100\n",
      "8000/8000 [==============================] - 1s 101us/sample - loss: 0.3711\n",
      "Epoch 31/100\n",
      "8000/8000 [==============================] - 1s 101us/sample - loss: 0.3694\n",
      "Epoch 32/100\n",
      "8000/8000 [==============================] - 1s 97us/sample - loss: 0.3683\n",
      "Epoch 33/100\n",
      "8000/8000 [==============================] - 1s 95us/sample - loss: 0.3668\n",
      "Epoch 34/100\n",
      "8000/8000 [==============================] - 1s 98us/sample - loss: 0.3653\n",
      "Epoch 35/100\n",
      "8000/8000 [==============================] - 1s 100us/sample - loss: 0.3643\n",
      "Epoch 36/100\n",
      "8000/8000 [==============================] - 1s 97us/sample - loss: 0.3626\n",
      "Epoch 37/100\n",
      "8000/8000 [==============================] - 1s 99us/sample - loss: 0.3605\n",
      "Epoch 38/100\n",
      "8000/8000 [==============================] - 1s 65us/sample - loss: 0.3572\n",
      "Epoch 39/100\n",
      "8000/8000 [==============================] - 1s 131us/sample - loss: 0.3541\n",
      "Epoch 40/100\n",
      "8000/8000 [==============================] - 1s 149us/sample - loss: 0.3515\n",
      "Epoch 41/100\n",
      "8000/8000 [==============================] - 1s 161us/sample - loss: 0.3497\n",
      "Epoch 42/100\n",
      "8000/8000 [==============================] - 1s 116us/sample - loss: 0.3479\n",
      "Epoch 43/100\n",
      "8000/8000 [==============================] - 1s 135us/sample - loss: 0.3472\n",
      "Epoch 44/100\n",
      "8000/8000 [==============================] - 1s 171us/sample - loss: 0.3453\n",
      "Epoch 45/100\n",
      "8000/8000 [==============================] - 1s 147us/sample - loss: 0.3449\n",
      "Epoch 46/100\n",
      "8000/8000 [==============================] - 1s 133us/sample - loss: 0.3444\n",
      "Epoch 47/100\n",
      "8000/8000 [==============================] - 1s 116us/sample - loss: 0.3426\n",
      "Epoch 48/100\n",
      "8000/8000 [==============================] - 1s 140us/sample - loss: 0.3424\n",
      "Epoch 49/100\n",
      "8000/8000 [==============================] - 1s 144us/sample - loss: 0.3423\n",
      "Epoch 50/100\n",
      "8000/8000 [==============================] - 1s 141us/sample - loss: 0.3414\n",
      "Epoch 51/100\n",
      "8000/8000 [==============================] - 1s 140us/sample - loss: 0.3415\n",
      "Epoch 52/100\n",
      "8000/8000 [==============================] - 1s 87us/sample - loss: 0.3408\n",
      "Epoch 53/100\n",
      "8000/8000 [==============================] - 1s 120us/sample - loss: 0.3404\n",
      "Epoch 54/100\n",
      "8000/8000 [==============================] - 1s 115us/sample - loss: 0.3401\n",
      "Epoch 55/100\n",
      "8000/8000 [==============================] - 1s 82us/sample - loss: 0.3400\n",
      "Epoch 56/100\n",
      "8000/8000 [==============================] - 1s 79us/sample - loss: 0.3391\n",
      "Epoch 57/100\n",
      "8000/8000 [==============================] - 1s 80us/sample - loss: 0.3395\n",
      "Epoch 58/100\n",
      "8000/8000 [==============================] - 1s 81us/sample - loss: 0.3387\n",
      "Epoch 59/100\n",
      "8000/8000 [==============================] - 1s 79us/sample - loss: 0.3387\n",
      "Epoch 60/100\n",
      "8000/8000 [==============================] - 1s 102us/sample - loss: 0.3382\n",
      "Epoch 61/100\n",
      "8000/8000 [==============================] - 1s 134us/sample - loss: 0.3382\n",
      "Epoch 62/100\n",
      "8000/8000 [==============================] - 1s 79us/sample - loss: 0.33760s - l\n",
      "Epoch 63/100\n",
      "8000/8000 [==============================] - 1s 80us/sample - loss: 0.3373\n",
      "Epoch 64/100\n",
      "8000/8000 [==============================] - 1s 81us/sample - loss: 0.3369\n",
      "Epoch 65/100\n",
      "8000/8000 [==============================] - 1s 79us/sample - loss: 0.3370\n",
      "Epoch 66/100\n",
      "8000/8000 [==============================] - 1s 89us/sample - loss: 0.3369\n",
      "Epoch 67/100\n",
      "8000/8000 [==============================] - 1s 110us/sample - loss: 0.3368\n",
      "Epoch 68/100\n",
      "8000/8000 [==============================] - 1s 124us/sample - loss: 0.3370\n",
      "Epoch 69/100\n",
      "8000/8000 [==============================] - 1s 121us/sample - loss: 0.3361\n",
      "Epoch 70/100\n",
      "8000/8000 [==============================] - 1s 81us/sample - loss: 0.3363\n",
      "Epoch 71/100\n",
      "8000/8000 [==============================] - 1s 80us/sample - loss: 0.3358\n",
      "Epoch 72/100\n",
      "8000/8000 [==============================] - 1s 94us/sample - loss: 0.3357\n",
      "Epoch 73/100\n",
      "8000/8000 [==============================] - 1s 94us/sample - loss: 0.3357\n",
      "Epoch 74/100\n",
      "8000/8000 [==============================] - 1s 80us/sample - loss: 0.3354\n",
      "Epoch 75/100\n",
      "8000/8000 [==============================] - 1s 111us/sample - loss: 0.3357\n",
      "Epoch 76/100\n",
      "8000/8000 [==============================] - 1s 155us/sample - loss: 0.3355\n",
      "Epoch 77/100\n",
      "8000/8000 [==============================] - 1s 156us/sample - loss: 0.3352\n",
      "Epoch 78/100\n",
      "8000/8000 [==============================] - 1s 149us/sample - loss: 0.3349\n",
      "Epoch 79/100\n",
      "8000/8000 [==============================] - 1s 160us/sample - loss: 0.3347\n",
      "Epoch 80/100\n",
      "8000/8000 [==============================] - 1s 127us/sample - loss: 0.3346\n",
      "Epoch 81/100\n",
      "8000/8000 [==============================] - 1s 154us/sample - loss: 0.3349\n",
      "Epoch 82/100\n",
      "8000/8000 [==============================] - 1s 142us/sample - loss: 0.3346\n",
      "Epoch 83/100\n",
      "8000/8000 [==============================] - 1s 100us/sample - loss: 0.3348\n",
      "Epoch 84/100\n",
      "8000/8000 [==============================] - 1s 81us/sample - loss: 0.3344\n",
      "Epoch 85/100\n",
      "8000/8000 [==============================] - 1s 80us/sample - loss: 0.3344\n",
      "Epoch 86/100\n",
      "8000/8000 [==============================] - 1s 120us/sample - loss: 0.3340\n",
      "Epoch 87/100\n",
      "8000/8000 [==============================] - 1s 121us/sample - loss: 0.3342\n",
      "Epoch 88/100\n",
      "8000/8000 [==============================] - 1s 98us/sample - loss: 0.3343\n",
      "Epoch 89/100\n",
      "8000/8000 [==============================] - 1s 81us/sample - loss: 0.3334\n",
      "Epoch 90/100\n",
      "8000/8000 [==============================] - 1s 79us/sample - loss: 0.3333\n",
      "Epoch 91/100\n",
      "8000/8000 [==============================] - 1s 81us/sample - loss: 0.3340\n",
      "Epoch 92/100\n",
      "8000/8000 [==============================] - 1s 82us/sample - loss: 0.3335\n",
      "Epoch 93/100\n"
     ]
    },
    {
     "name": "stdout",
     "output_type": "stream",
     "text": [
      "8000/8000 [==============================] - 1s 94us/sample - loss: 0.3330\n",
      "Epoch 94/100\n",
      "8000/8000 [==============================] - 1s 113us/sample - loss: 0.3326\n",
      "Epoch 95/100\n",
      "8000/8000 [==============================] - 1s 81us/sample - loss: 0.3331\n",
      "Epoch 96/100\n",
      "8000/8000 [==============================] - ETA: 0s - loss: 0.331 - 1s 87us/sample - loss: 0.3331\n",
      "Epoch 97/100\n",
      "8000/8000 [==============================] - 1s 88us/sample - loss: 0.3326\n",
      "Epoch 98/100\n",
      "8000/8000 [==============================] - 1s 80us/sample - loss: 0.3328\n",
      "Epoch 99/100\n",
      "8000/8000 [==============================] - 1s 87us/sample - loss: 0.3326\n",
      "Epoch 100/100\n",
      "8000/8000 [==============================] - 1s 92us/sample - loss: 0.3327\n"
     ]
    },
    {
     "data": {
      "text/plain": [
       "<tensorflow.python.keras.callbacks.History at 0x286a9e45f48>"
      ]
     },
     "execution_count": 18,
     "metadata": {},
     "output_type": "execute_result"
    }
   ],
   "source": [
    "ann.fit(X_train, y_train, batch_size = 32, epochs = 100)"
   ]
  },
  {
   "cell_type": "markdown",
   "metadata": {},
   "source": [
    "# 4. Making predictions and evaluating the model"
   ]
  },
  {
   "cell_type": "code",
   "execution_count": 22,
   "metadata": {},
   "outputs": [
    {
     "name": "stdout",
     "output_type": "stream",
     "text": [
      "[[False]]\n"
     ]
    }
   ],
   "source": [
    "print(ann.predict(sc.transform([[1,0,0, 600, 1, 40, 3, 60000, 2, 1, 1, 50000]])) > 0.5)"
   ]
  },
  {
   "cell_type": "markdown",
   "metadata": {},
   "source": [
    "### Predicting the test set result"
   ]
  },
  {
   "cell_type": "code",
   "execution_count": 24,
   "metadata": {},
   "outputs": [
    {
     "name": "stdout",
     "output_type": "stream",
     "text": [
      "[[0 0]\n",
      " [0 1]\n",
      " [0 0]\n",
      " ...\n",
      " [0 0]\n",
      " [0 0]\n",
      " [0 0]]\n"
     ]
    }
   ],
   "source": [
    "y_pred = ann.predict(X_test)\n",
    "y_pred = (y_pred > 0.5)\n",
    "print(np.concatenate((y_pred.reshape(len(y_pred), 1), y_test.reshape(len(y_test),1)), 1))\n"
   ]
  },
  {
   "cell_type": "markdown",
   "metadata": {},
   "source": [
    "### Making the confusion matrix"
   ]
  },
  {
   "cell_type": "code",
   "execution_count": 26,
   "metadata": {},
   "outputs": [
    {
     "name": "stdout",
     "output_type": "stream",
     "text": [
      "[[1516   79]\n",
      " [ 194  211]]\n"
     ]
    },
    {
     "data": {
      "text/plain": [
       "0.8635"
      ]
     },
     "execution_count": 26,
     "metadata": {},
     "output_type": "execute_result"
    }
   ],
   "source": [
    "from sklearn.metrics import confusion_matrix, accuracy_score\n",
    "cm = confusion_matrix(y_test, y_pred)\n",
    "print(cm)\n",
    "accuracy_score(y_test, y_pred)"
   ]
  },
  {
   "cell_type": "code",
   "execution_count": null,
   "metadata": {},
   "outputs": [],
   "source": []
  }
 ],
 "metadata": {
  "kernelspec": {
   "display_name": "Python 3",
   "language": "python",
   "name": "python3"
  },
  "language_info": {
   "codemirror_mode": {
    "name": "ipython",
    "version": 3
   },
   "file_extension": ".py",
   "mimetype": "text/x-python",
   "name": "python",
   "nbconvert_exporter": "python",
   "pygments_lexer": "ipython3",
   "version": "3.7.4"
  }
 },
 "nbformat": 4,
 "nbformat_minor": 2
}
